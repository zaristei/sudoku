{
 "cells": [
  {
   "cell_type": "code",
   "execution_count": 1,
   "metadata": {},
   "outputs": [],
   "source": [
    "from board import Board\n",
    "from sudoku_bank.intake import parse_file\n",
    "from strategies.strategy import Strategy, BruteForce\n",
    "\n",
    "import numpy as np"
   ]
  },
  {
   "cell_type": "code",
   "execution_count": 2,
   "metadata": {},
   "outputs": [],
   "source": [
    "easy = parse_file('sudoku_bank/easy.txt')"
   ]
  },
  {
   "cell_type": "code",
   "execution_count": 3,
   "metadata": {},
   "outputs": [],
   "source": [
    "def solve(board, strategies, verbose=False):\n",
    "    while not board.is_complete():\n",
    "        for strategy in strategies:\n",
    "            board = strategy.apply(board, verbose)\n",
    "    return board"
   ]
  },
  {
   "cell_type": "code",
   "execution_count": null,
   "metadata": {},
   "outputs": [],
   "source": [
    "solve(Board(easy[0]), [BruteForce()], verbose=True)"
   ]
  },
  {
   "cell_type": "code",
   "execution_count": null,
   "metadata": {},
   "outputs": [],
   "source": [
    "print(\"A\\nB\\nC\", end=\"\\r\")\n",
    "print(\"1\\n2\\n3\", end=\"\\r\\b\"*3)"
   ]
  },
  {
   "cell_type": "code",
   "execution_count": 1,
   "metadata": {},
   "outputs": [],
   "source": [
    "import curses, time"
   ]
  },
  {
   "cell_type": "code",
   "execution_count": 2,
   "metadata": {},
   "outputs": [],
   "source": []
  },
  {
   "cell_type": "code",
   "execution_count": 4,
   "metadata": {},
   "outputs": [
    {
     "name": "stdout",
     "output_type": "stream",
     "text": [
      "\u001b[?1l\u001b>K\u001b[24;1H\u001b[2J\u001b[?47l\u001b8?1h\u001b=\u001b[m\u001b[m\u001b[37m\u001b[40m\u001b[1;1H                                                                                \u001b[2;1H                                                                                \u001b[3;1H                                                                                \u001b[4;1H                                                                                \u001b[5;1H                                                                                \u001b[6;1H                                                                                \u001b[7;1H                                                                                \u001b[8;1H                                                                                \u001b[9;1H                                                                                \u001b[10;1H                                                                                \u001b[11;1H                                                                                \u001b[12;1H                                                                                \u001b[13;1H                                                                                \u001b[14;1H                                                                                \u001b[15;1H                                                                                \u001b[16;1H                                                                                \u001b[17;1H                                                                                \u001b[18;1H                                                                                \u001b[19;1H                                                                                \u001b[20;1H                                                                                \u001b[21;1H                                                                                \u001b[22;1H                                                                                \u001b[23;1H                                                                                \u001b[24;1H                                                                              \u001b[4h \u001b[4l\u001b[HHelloWorld\u001b[?1l\u001b>\u001b[m"
     ]
    }
   ],
   "source": [
    "!python3 test_curse.py"
   ]
  },
  {
   "cell_type": "code",
   "execution_count": 5,
   "metadata": {},
   "outputs": [],
   "source": [
    "import numpy as np"
   ]
  },
  {
   "cell_type": "code",
   "execution_count": 6,
   "metadata": {},
   "outputs": [],
   "source": [
    "bitmap = np.ones((9,9,9), dtype=bool)"
   ]
  },
  {
   "cell_type": "code",
   "execution_count": 7,
   "metadata": {},
   "outputs": [
    {
     "data": {
      "text/plain": [
       "array([[[255, 128],\n",
       "        [255, 128],\n",
       "        [255, 128],\n",
       "        [255, 128],\n",
       "        [255, 128],\n",
       "        [255, 128],\n",
       "        [255, 128],\n",
       "        [255, 128],\n",
       "        [255, 128]],\n",
       "\n",
       "       [[255, 128],\n",
       "        [255, 128],\n",
       "        [255, 128],\n",
       "        [255, 128],\n",
       "        [255, 128],\n",
       "        [255, 128],\n",
       "        [255, 128],\n",
       "        [255, 128],\n",
       "        [255, 128]],\n",
       "\n",
       "       [[255, 128],\n",
       "        [255, 128],\n",
       "        [255, 128],\n",
       "        [255, 128],\n",
       "        [255, 128],\n",
       "        [255, 128],\n",
       "        [255, 128],\n",
       "        [255, 128],\n",
       "        [255, 128]],\n",
       "\n",
       "       [[255, 128],\n",
       "        [255, 128],\n",
       "        [255, 128],\n",
       "        [255, 128],\n",
       "        [255, 128],\n",
       "        [255, 128],\n",
       "        [255, 128],\n",
       "        [255, 128],\n",
       "        [255, 128]],\n",
       "\n",
       "       [[255, 128],\n",
       "        [255, 128],\n",
       "        [255, 128],\n",
       "        [255, 128],\n",
       "        [255, 128],\n",
       "        [255, 128],\n",
       "        [255, 128],\n",
       "        [255, 128],\n",
       "        [255, 128]],\n",
       "\n",
       "       [[255, 128],\n",
       "        [255, 128],\n",
       "        [255, 128],\n",
       "        [255, 128],\n",
       "        [255, 128],\n",
       "        [255, 128],\n",
       "        [255, 128],\n",
       "        [255, 128],\n",
       "        [255, 128]],\n",
       "\n",
       "       [[255, 128],\n",
       "        [255, 128],\n",
       "        [255, 128],\n",
       "        [255, 128],\n",
       "        [255, 128],\n",
       "        [255, 128],\n",
       "        [255, 128],\n",
       "        [255, 128],\n",
       "        [255, 128]],\n",
       "\n",
       "       [[255, 128],\n",
       "        [255, 128],\n",
       "        [255, 128],\n",
       "        [255, 128],\n",
       "        [255, 128],\n",
       "        [255, 128],\n",
       "        [255, 128],\n",
       "        [255, 128],\n",
       "        [255, 128]],\n",
       "\n",
       "       [[255, 128],\n",
       "        [255, 128],\n",
       "        [255, 128],\n",
       "        [255, 128],\n",
       "        [255, 128],\n",
       "        [255, 128],\n",
       "        [255, 128],\n",
       "        [255, 128],\n",
       "        [255, 128]]], dtype=uint8)"
      ]
     },
     "execution_count": 7,
     "metadata": {},
     "output_type": "execute_result"
    }
   ],
   "source": [
    "np.packbits(bitmap, axis=2)"
   ]
  },
  {
   "cell_type": "code",
   "execution_count": null,
   "metadata": {},
   "outputs": [],
   "source": []
  }
 ],
 "metadata": {
  "kernelspec": {
   "display_name": "sudoku",
   "language": "python",
   "name": "python3"
  },
  "language_info": {
   "codemirror_mode": {
    "name": "ipython",
    "version": 3
   },
   "file_extension": ".py",
   "mimetype": "text/x-python",
   "name": "python",
   "nbconvert_exporter": "python",
   "pygments_lexer": "ipython3",
   "version": "3.12.7"
  }
 },
 "nbformat": 4,
 "nbformat_minor": 2
}
